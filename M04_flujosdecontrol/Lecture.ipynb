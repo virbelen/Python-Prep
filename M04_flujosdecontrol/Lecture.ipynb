{
 "cells": [
  {
   "attachments": {},
   "cell_type": "markdown",
   "metadata": {},
   "source": [
    "Sintaxis de if:\n",
    "\n",
    "if condicion:\n",
    "     # Codigo que quiero que haga si la condicion es verdadera"
   ]
  },
  {
   "cell_type": "code",
   "execution_count": 2,
   "metadata": {},
   "outputs": [
    {
     "data": {
      "text/plain": [
       "False"
      ]
     },
     "execution_count": 2,
     "metadata": {},
     "output_type": "execute_result"
    }
   ],
   "source": [
    "a = '2'\n",
    "b = 2\n",
    "a == b"
   ]
  },
  {
   "cell_type": "code",
   "execution_count": 6,
   "metadata": {},
   "outputs": [
    {
     "name": "stdout",
     "output_type": "stream",
     "text": [
      "el numero -5 es negativo\n"
     ]
    }
   ],
   "source": [
    "numero = -5\n",
    "\n",
    "if numero > 0:\n",
    "     print('el numero {numero} es positivo')\n",
    "elif numero < 0:\n",
    "     print (f'el numero {numero} es negativo')"
   ]
  },
  {
   "cell_type": "code",
   "execution_count": 8,
   "metadata": {},
   "outputs": [
    {
     "name": "stdout",
     "output_type": "stream",
     "text": [
      "el numero es cero\n"
     ]
    }
   ],
   "source": [
    "numero = 0\n",
    "\n",
    "if numero > 0:\n",
    "     print('el numero {numero} es positivo')\n",
    "elif numero < 0:\n",
    "     print (f'el numero {numero} es negativo')\n",
    "else: \n",
    "     print('el numero es cero')"
   ]
  },
  {
   "attachments": {},
   "cell_type": "markdown",
   "metadata": {},
   "source": [
    "For loop\n",
    "\n",
    "for elemento in secuencia:\n",
    "     hace esto.."
   ]
  },
  {
   "cell_type": "code",
   "execution_count": 10,
   "metadata": {},
   "outputs": [
    {
     "name": "stdout",
     "output_type": "stream",
     "text": [
      "1\n",
      "2\n",
      "3\n",
      "4\n",
      "5\n",
      "6\n"
     ]
    }
   ],
   "source": [
    "lista_num = [1,2,3,4,5,6]\n",
    "\n",
    "for numero in lista_num: \n",
    "    print(numero)"
   ]
  },
  {
   "cell_type": "code",
   "execution_count": 11,
   "metadata": {},
   "outputs": [
    {
     "name": "stdout",
     "output_type": "stream",
     "text": [
      "el numero es: 1\n",
      "el numero es: 2\n",
      "el numero es: 3\n",
      "el numero es: 4\n",
      "el numero es: 5\n",
      "el numero es: 6\n"
     ]
    }
   ],
   "source": [
    "lista_num = [1,2,3,4,5,6]\n",
    "\n",
    "for numero in lista_num: \n",
    "    print(f'el numero es: {numero}') #f es para convinar str con distintas variables"
   ]
  },
  {
   "cell_type": "code",
   "execution_count": 13,
   "metadata": {},
   "outputs": [
    {
     "name": "stdout",
     "output_type": "stream",
     "text": [
      "1\n",
      "2\n",
      "3\n",
      "4\n",
      "5\n"
     ]
    }
   ],
   "source": [
    "for numero in range(1,6):\n",
    "    print(numero)"
   ]
  },
  {
   "cell_type": "code",
   "execution_count": 14,
   "metadata": {},
   "outputs": [
    {
     "name": "stdout",
     "output_type": "stream",
     "text": [
      "1\n",
      "2\n",
      "3\n",
      "4\n",
      "5\n",
      "6\n"
     ]
    }
   ],
   "source": [
    "for numero in range(1,7): # no considera el ultimo valor, hay qyue poner uno mas\n",
    "    print(numero)"
   ]
  },
  {
   "cell_type": "code",
   "execution_count": 15,
   "metadata": {},
   "outputs": [
    {
     "name": "stdout",
     "output_type": "stream",
     "text": [
      "1\n",
      "2\n",
      "3\n",
      "4\n",
      "5\n",
      "6\n",
      "7\n",
      "8\n",
      "9\n"
     ]
    }
   ],
   "source": [
    "n = 1\n",
    "while n < 10:\n",
    "    print(n)\n",
    "    n += 1 "
   ]
  },
  {
   "cell_type": "code",
   "execution_count": 21,
   "metadata": {},
   "outputs": [
    {
     "name": "stdout",
     "output_type": "stream",
     "text": [
      "4\n",
      "3\n",
      "2\n",
      "1\n",
      "0\n",
      "fin del ciclo\n"
     ]
    }
   ],
   "source": [
    "x = 5\n",
    "\n",
    "while x > -5:\n",
    "    x -= 1 \n",
    "    print(x)\n",
    "    if x == 0:\n",
    "        break # frenar el ciclo\n",
    "print(\"fin del ciclo\")"
   ]
  },
  {
   "cell_type": "code",
   "execution_count": 23,
   "metadata": {},
   "outputs": [
    {
     "name": "stdout",
     "output_type": "stream",
     "text": [
      "P\n",
      "y\n",
      "h\n",
      "o\n",
      "n\n"
     ]
    }
   ],
   "source": [
    "cadena = 'Python'\n",
    "\n",
    "for letra in cadena:\n",
    "    if letra == 't':\n",
    "        continue\n",
    "   \n",
    "    print(letra)"
   ]
  }
 ],
 "metadata": {
  "kernelspec": {
   "display_name": "Python 3",
   "language": "python",
   "name": "python3"
  },
  "language_info": {
   "codemirror_mode": {
    "name": "ipython",
    "version": 3
   },
   "file_extension": ".py",
   "mimetype": "text/x-python",
   "name": "python",
   "nbconvert_exporter": "python",
   "pygments_lexer": "ipython3",
   "version": "3.12.0"
  },
  "orig_nbformat": 4
 },
 "nbformat": 4,
 "nbformat_minor": 2
}
